{
 "cells": [
  {
   "cell_type": "markdown",
   "metadata": {
    "application/vnd.databricks.v1+cell": {
     "cellMetadata": {
      "byteLimit": 2048000,
      "rowLimit": 10000
     },
     "inputWidgets": {},
     "nuid": "b747a6b9-29a9-4c5a-9b1b-bf677dc57809",
     "showTitle": false,
     "title": ""
    }
   },
   "source": [
    "![](/files/images/dbxatscale.png)"
   ]
  },
  {
   "cell_type": "markdown",
   "metadata": {
    "application/vnd.databricks.v1+cell": {
     "cellMetadata": {
      "byteLimit": 2048000,
      "rowLimit": 10000
     },
     "inputWidgets": {},
     "nuid": "a7587f6b-3317-42da-8c9a-073ed371b622",
     "showTitle": false,
     "title": ""
    }
   },
   "source": [
    "![](/files/images/flowchart.png)"
   ]
  },
  {
   "cell_type": "markdown",
   "metadata": {
    "application/vnd.databricks.v1+cell": {
     "cellMetadata": {},
     "inputWidgets": {},
     "nuid": "0f10d874-c7fd-4276-af3e-74dae737e9a1",
     "showTitle": false,
     "title": ""
    }
   },
   "source": [
    "### Our Approach\n",
    "This translates to a 7 notebook process. We will leverage Databricks' capabilities around running notebooks with other notebooks to streamline the process and not rewrite code. \n",
    "</br><i>The tokens at the top right of some of the documents represents which notebooks we will call inside the given notebook.</i>"
   ]
  },
  {
   "cell_type": "markdown",
   "metadata": {
    "application/vnd.databricks.v1+cell": {
     "cellMetadata": {},
     "inputWidgets": {},
     "nuid": "9b80d3c7-6a64-40d0-8571-e451bfe6bfc7",
     "showTitle": false,
     "title": ""
    }
   },
   "source": [
    "![](/files/images/databricks_demo_visual_7__tokens__real.png)"
   ]
  }
 ],
 "metadata": {
  "application/vnd.databricks.v1+notebook": {
   "dashboards": [],
   "language": "python",
   "notebookMetadata": {
    "pythonIndentUnit": 2
   },
   "notebookName": "00_Roadmap",
   "widgets": {}
  }
 },
 "nbformat": 4,
 "nbformat_minor": 0
}

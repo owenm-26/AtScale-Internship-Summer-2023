{
 "cells": [
  {
   "cell_type": "markdown",
   "metadata": {
    "application/vnd.databricks.v1+cell": {
     "cellMetadata": {
      "byteLimit": 2048000,
      "rowLimit": 10000
     },
     "inputWidgets": {},
     "nuid": "ead612b3-7c95-4c05-9767-d45fd7bbb54d",
     "showTitle": false,
     "title": ""
    }
   },
   "source": [
    "# 06_Webhook_Set_Up\n",
    "Use this notebook to setup Webhooks. Calling this notebook serves <code>send_slack_messages(slack_url, channel, =messages=)</code> to your scope. <a href = \"https://adb-6969958581353382.2.azuredatabricks.net/?o=6969958581353382#notebook/3864286428715599/command/3864286428715600\"><u>Jump to this notebook here.</u></a>"
   ]
  },
  {
   "cell_type": "code",
   "execution_count": null,
   "metadata": {
    "application/vnd.databricks.v1+cell": {
     "cellMetadata": {},
     "inputWidgets": {},
     "nuid": "2f11727d-9864-4b03-883b-51f8c9174135",
     "showTitle": false,
     "title": ""
    }
   },
   "outputs": [],
   "source": [
    "#Call %run ./06_Webhook_Set_Up to use this notebook."
   ]
  },
  {
   "cell_type": "code",
   "execution_count": null,
   "metadata": {
    "application/vnd.databricks.v1+cell": {
     "cellMetadata": {
      "byteLimit": 2048000,
      "rowLimit": 10000
     },
     "inputWidgets": {},
     "nuid": "e0a2b2ea-161a-46c0-b731-f6595bc4b093",
     "showTitle": false,
     "title": ""
    }
   },
   "outputs": [],
   "source": [
    "# imports\n",
    "import requests \n",
    "import json\n",
    "from datetime import datetime"
   ]
  },
  {
   "cell_type": "code",
   "execution_count": null,
   "metadata": {
    "application/vnd.databricks.v1+cell": {
     "cellMetadata": {
      "byteLimit": 2048000,
      "rowLimit": 10000
     },
     "inputWidgets": {},
     "nuid": "d2848ba5-7923-42cc-9b34-1d3e82f52115",
     "showTitle": false,
     "title": ""
    }
   },
   "outputs": [],
   "source": [
    "# webhook variables\n",
    "slack_url = \"<your slack workspace url here>\"\n",
    "messages = []\n",
    "channel = \"<your channel name here>\""
   ]
  },
  {
   "cell_type": "code",
   "execution_count": null,
   "metadata": {
    "application/vnd.databricks.v1+cell": {
     "cellMetadata": {
      "byteLimit": 2048000,
      "rowLimit": 10000
     },
     "inputWidgets": {},
     "nuid": "447569cc-e203-4cc2-8668-c5db31c6ed0f",
     "showTitle": false,
     "title": ""
    }
   },
   "outputs": [],
   "source": [
    "# message sending definition\n",
    "def send_slack_messages(webhook_url, channel, messages):\n",
    "  blocks = []\n",
    "  for message in messages:\n",
    "    block = {\n",
    "      \"type\": \"section\",\n",
    "      \"text\": {\n",
    "        \"type\": \"mrkdwn\",\n",
    "        \"text\": message\n",
    "      }\n",
    "    }\n",
    "    blocks.append(block)\n",
    "  payload = {\n",
    "    \"channel\": channel,\n",
    "    \"blocks\": blocks\n",
    "  }\n",
    "  headers = {\n",
    "    \"Content-Type\": \"application/json\"\n",
    "  }\n",
    "  response = requests.post(webhook_url, json=payload, headers=headers)\n",
    "  if response.status_code != 200:\n",
    "    raise ValueError(f\"Error sending Slack messages: {response.text}\")"
   ]
  },
  {
   "cell_type": "code",
   "execution_count": null,
   "metadata": {
    "application/vnd.databricks.v1+cell": {
     "cellMetadata": {
      "byteLimit": 2048000,
      "rowLimit": 10000
     },
     "inputWidgets": {},
     "nuid": "2a74b9ec-8b06-4c39-ad50-5ca55fd352d3",
     "showTitle": false,
     "title": ""
    }
   },
   "outputs": [
    {
     "name": "stdout",
     "output_type": "stream",
     "text": [
      "Webhook Set Up Complete.\n"
     ]
    }
   ],
   "source": [
    "print(\"Webhook Set Up Complete.\")"
   ]
  }
 ],
 "metadata": {
  "application/vnd.databricks.v1+notebook": {
   "dashboards": [],
   "language": "python",
   "notebookMetadata": {
    "pythonIndentUnit": 2
   },
   "notebookName": "06_Webhook_Set_Up",
   "widgets": {}
  },
  "language_info": {
   "name": "python"
  }
 },
 "nbformat": 4,
 "nbformat_minor": 0
}

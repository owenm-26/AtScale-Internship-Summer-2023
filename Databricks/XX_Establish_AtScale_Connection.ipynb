{
 "cells": [
  {
   "cell_type": "markdown",
   "metadata": {
    "application/vnd.databricks.v1+cell": {
     "cellMetadata": {
      "byteLimit": 2048000,
      "rowLimit": 10000
     },
     "inputWidgets": {},
     "nuid": "4ebad167-7d8b-49d2-b8ce-f55a370b6ca3",
     "showTitle": false,
     "title": ""
    }
   },
   "source": [
    "# AtScale Connector Notebook \n",
    "This notebook executes AI Link code to connect to your AtScale project and generate the query for the features used by the model. When run, this notebook will return <code>query</code>, a sql query"
   ]
  },
  {
   "cell_type": "code",
   "execution_count": 0,
   "metadata": {
    "application/vnd.databricks.v1+cell": {
     "cellMetadata": {
      "byteLimit": 2048000,
      "rowLimit": 10000
     },
     "inputWidgets": {},
     "nuid": "309c75cb-cbf9-42e3-b29a-34a34e0709ba",
     "showTitle": false,
     "title": ""
    }
   },
   "outputs": [],
   "source": [
    "#Call this Notebook using %run ./XX_Establish_AtScale_Connection"
   ]
  },
  {
   "cell_type": "code",
   "execution_count": 0,
   "metadata": {
    "application/vnd.databricks.v1+cell": {
     "cellMetadata": {
      "byteLimit": 2048000,
      "rowLimit": 10000
     },
     "inputWidgets": {},
     "nuid": "ab853811-4fc8-43d3-94fa-395bfc0697c5",
     "showTitle": false,
     "title": ""
    }
   },
   "outputs": [],
   "source": [
    "from atscale.client import Client\n",
    "from atscale.data_model import DataModel\n",
    "from atscale.project import Project\n",
    "from atscale.connection import Connection\n",
    "from atscale.eda.feature_engineering import *\n",
    "from atscale.base import enums\n",
    "from atscale.utils import db_utils"
   ]
  },
  {
   "cell_type": "code",
   "execution_count": 0,
   "metadata": {
    "application/vnd.databricks.v1+cell": {
     "cellMetadata": {
      "byteLimit": 2048000,
      "rowLimit": 10000
     },
     "inputWidgets": {},
     "nuid": "b32b3408-50f2-4c93-a553-03c778147bcd",
     "showTitle": false,
     "title": ""
    }
   },
   "outputs": [],
   "source": [
    "# Define Demo Specific Variables\n",
    "project = \"Walmart Databricks ML\"\n",
    "data_model = \"m5_walmart_sales\"\n",
    "\n",
    "features = ['average_sales', 'average_units_sold', 'max_sales', 'max_units_sold', 'population_variance_sales', 'population_variance_units_sold', 'sample_standard_deviation_sales', 'sample_standard_deviation_units_sold', 'sample_variance_units_sold', 'total_categories', 'total_departments', 'total_items', 'total_sales', 'total_states', 'total_stores', 'total_transactions', 'total_units_sold', 'day_over_day_units_sold', 'previous_days_units_sold', 'total_sales_30_prd_mv_avg', 'total_units_sold_28_day_max', 'total_units_sold_30_prd_mv_avg', 'date', 'item']"
   ]
  },
  {
   "cell_type": "code",
   "execution_count": 0,
   "metadata": {
    "application/vnd.databricks.v1+cell": {
     "cellMetadata": {
      "byteLimit": 2048000,
      "rowLimit": 10000
     },
     "inputWidgets": {},
     "nuid": "16681038-6e35-4f3d-96c4-2843a3b178ff",
     "showTitle": false,
     "title": ""
    }
   },
   "outputs": [],
   "source": [
    "# Connect with Client object\n",
    "AILinkUser = dbutils.secrets.get(scope = \"ai-link scope\", key = \"atscale-andrew-user\")\n",
    "AILinkPass = dbutils.secrets.get(scope = \"ai-link scope\", key = \"atscale-andrew-pass\")\n",
    "client = Client(\n",
    "    server = \"http://ailink-public.atscale.com\",\n",
    "    organization = \"default\",\n",
    "    username = AILinkUser,\n",
    "    password = AILinkPass)\n",
    "\n",
    "client.connect()"
   ]
  },
  {
   "cell_type": "code",
   "execution_count": 0,
   "metadata": {
    "application/vnd.databricks.v1+cell": {
     "cellMetadata": {
      "byteLimit": 2048000,
      "rowLimit": 10000
     },
     "inputWidgets": {},
     "nuid": "4f212b04-7cd3-4ba6-b18d-e1afbad0944c",
     "showTitle": false,
     "title": ""
    }
   },
   "outputs": [
    {
     "output_type": "stream",
     "name": "stdout",
     "output_type": "stream",
     "text": [
      "Please choose a project:\nAutomatically selecting only option: \"ID: bfab4719-9a61-46f5-7d4c-1dcc2881ba44: Name: Walmart Databricks ML\"\nPlease choose a published project:\nAutomatically selecting only option: \"ID: 7f2140aa-8b8c-4517-6484-47432da7e337: Name: Walmart Databricks ML\"\nPlease choose a data model:\nAutomatically selecting only option: \"ID: 50fd61ba-2a0b-44d2-7dec-786e15c6ab6f: Name: m5_walmart_sales\"\n"
     ]
    }
   ],
   "source": [
    "# Define Project, Data Model, and SQL Query\n",
    "project = client.select_project(name_contains = project)\n",
    "dm = project.select_data_model(name_contains = data_model)\n",
    "query = dm.get_database_query(feature_list = features)"
   ]
  },
  {
   "cell_type": "code",
   "execution_count": 0,
   "metadata": {
    "application/vnd.databricks.v1+cell": {
     "cellMetadata": {
      "byteLimit": 2048000,
      "rowLimit": 10000
     },
     "inputWidgets": {},
     "nuid": "f42040a2-55e7-4545-a857-cba0493ad0ca",
     "showTitle": false,
     "title": ""
    }
   },
   "outputs": [
    {
     "output_type": "stream",
     "name": "stdout",
     "output_type": "stream",
     "text": [
      "AtScale connection successful.\n"
     ]
    }
   ],
   "source": [
    "print(\"AtScale connection successful.\")"
   ]
  }
 ],
 "metadata": {
  "application/vnd.databricks.v1+notebook": {
   "dashboards": [],
   "language": "python",
   "notebookMetadata": {
    "pythonIndentUnit": 2
   },
   "notebookName": "XX_Establish_AtScale_Connection",
   "widgets": {}
  }
 },
 "nbformat": 4,
 "nbformat_minor": 0
}

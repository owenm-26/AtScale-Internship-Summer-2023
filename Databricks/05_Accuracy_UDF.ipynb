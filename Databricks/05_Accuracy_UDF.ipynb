{
 "cells": [
  {
   "cell_type": "markdown",
   "metadata": {
    "application/vnd.databricks.v1+cell": {
     "cellMetadata": {
      "byteLimit": 2048000,
      "rowLimit": 10000
     },
     "inputWidgets": {},
     "nuid": "60bb0225-acc2-40a5-af2b-8d97583ce7d6",
     "showTitle": false,
     "title": ""
    }
   },
   "source": [
    "![](/files/images/dbxatscale.png)"
   ]
  },
  {
   "cell_type": "markdown",
   "metadata": {
    "application/vnd.databricks.v1+cell": {
     "cellMetadata": {
      "byteLimit": 2048000,
      "rowLimit": 10000
     },
     "inputWidgets": {},
     "nuid": "4d781fad-f08d-453b-81ec-915b8211332e",
     "showTitle": false,
     "title": ""
    }
   },
   "source": [
    "# Accuracy UDF\n",
    "Run this notebook using <code>%run ./05_Accuracy_UDF</code> to manually <b>call the accuracy checking function</b> for the m5_walmart_sales model that predicts item category. A message will be automatically sent to slack with the results."
   ]
  },
  {
   "cell_type": "code",
   "execution_count": 0,
   "metadata": {
    "application/vnd.databricks.v1+cell": {
     "cellMetadata": {
      "byteLimit": 2048000,
      "rowLimit": 10000
     },
     "inputWidgets": {},
     "nuid": "c0e054aa-516a-492b-bd0d-b466d9a25a8f",
     "showTitle": false,
     "title": ""
    }
   },
   "outputs": [],
   "source": [
    "# imports and session creation\n",
    "from pyspark.sql import SparkSession\n",
    "import pyspark.sql.types as T\n",
    "import pyspark.sql.functions as F\n",
    "from pyspark.sql.functions import udf\n",
    "\n",
    "import warnings\n",
    "warnings.filterwarnings(\"ignore\")"
   ]
  },
  {
   "cell_type": "code",
   "execution_count": 0,
   "metadata": {
    "application/vnd.databricks.v1+cell": {
     "cellMetadata": {
      "byteLimit": 2048000,
      "rowLimit": 10000
     },
     "inputWidgets": {},
     "nuid": "8229b6a8-8693-4cb1-ab94-1ef241154ad9",
     "showTitle": false,
     "title": ""
    }
   },
   "outputs": [],
   "source": [
    "%run ./XX_Establish_AtScale_Connection"
   ]
  },
  {
   "cell_type": "code",
   "execution_count": 0,
   "metadata": {
    "application/vnd.databricks.v1+cell": {
     "cellMetadata": {
      "byteLimit": 2048000,
      "rowLimit": 10000
     },
     "inputWidgets": {},
     "nuid": "b55f6b26-6439-449f-ae89-b529d2b469dc",
     "showTitle": false,
     "title": ""
    }
   },
   "outputs": [],
   "source": [
    "# Create function\n",
    "def m5_accuracy():\n",
    "\n",
    "  # import model\n",
    "  import mlflow\n",
    "  from datetime import datetime\n",
    "  model_name = \"Databricks_AI_Link_M5_Demo\"\n",
    "  model_version = 4\n",
    "  model_uri=f\"models:/{model_name}/{model_version}\"\n",
    "  model = mlflow.pyfunc.load_model(model_uri=model_uri)\n",
    "\n",
    "  # get dataframe \n",
    "  df = spark.sql(query).toPandas()\n",
    "\n",
    "  # make codified categories column\n",
    "  item_cat=[]\n",
    "  for index, row in df.iterrows():\n",
    "    item = row[\"item\"][0:3]\n",
    "    if item == \"FOO\":\n",
    "      item_cat.append(1)\n",
    "    elif item == \"HOB\":\n",
    "      item_cat.append(2)\n",
    "    elif item == \"HOU\":\n",
    "      item_cat.append(3)\n",
    "  \n",
    "  df[\"item_cat\"] = item_cat\n",
    "\n",
    "  # drop the item column\n",
    "  df = df.drop([\"item\"], axis = 1)\n",
    "\n",
    "  # make prediction column\n",
    "  df[\"predicted_class\"] = model.predict(df)\n",
    "\n",
    "  # make grade column\n",
    "  arr = []\n",
    "  correct = 0\n",
    "  for i in range(df.shape[0]):\n",
    "    if(df[\"predicted_class\"][i] == df[\"item_cat\"][i]):\n",
    "      arr.append(1)\n",
    "      correct+=1\n",
    "    else:\n",
    "      arr.append(0)\n",
    "  \n",
    "  ### Uncomment to add a binary column to see item by item correctness\n",
    "  # df[\"successful_predict\"] = arr\n",
    "  # display(df)\n",
    "\n",
    "  return str(round(correct / df.shape[0], 4) * 100)"
   ]
  },
  {
   "cell_type": "code",
   "execution_count": 0,
   "metadata": {
    "application/vnd.databricks.v1+cell": {
     "cellMetadata": {
      "byteLimit": 2048000,
      "rowLimit": 10000
     },
     "inputWidgets": {},
     "nuid": "41c74919-e6c3-4075-a6cc-a0d00298715e",
     "showTitle": false,
     "title": ""
    }
   },
   "outputs": [
    {
     "output_type": "stream",
     "name": "stderr",
     "output_type": "stream",
     "text": [
      "2023/08/04 17:58:07 WARNING mlflow.pyfunc: Encountered an unexpected error (AttributeError(\"module 'configparser' has no attribute '__version__'\")) while detecting model dependency mismatches. Set logging level to DEBUG to see the full traceback.\n"
     ]
    },
    {
     "output_type": "stream",
     "name": "stdout",
     "output_type": "stream",
     "text": [
      "[LightGBM] [Warning] lambda_l2 is set=0.176191006422464, reg_lambda=0.0 will be ignored. Current value: lambda_l2=0.176191006422464\n[LightGBM] [Warning] lambda_l1 is set=0.2347409701792684, reg_alpha=0.0 will be ignored. Current value: lambda_l1=0.2347409701792684\n99.72\n"
     ]
    },
    {
     "output_type": "stream",
     "name": "stdout",
     "output_type": "stream",
     "text": [
      "Please choose a project:\nAutomatically selecting only option: \"ID: bfab4719-9a61-46f5-7d4c-1dcc2881ba44: Name: Walmart Databricks ML\"\nPlease choose a published project:\nAutomatically selecting only option: \"ID: 7f2140aa-8b8c-4517-6484-47432da7e337: Name: Walmart Databricks ML\"\nPlease choose a data model:\nAutomatically selecting only option: \"ID: 50fd61ba-2a0b-44d2-7dec-786e15c6ab6f: Name: m5_walmart_sales\"\n"
     ]
    },
    {
     "output_type": "stream",
     "name": "stdout",
     "output_type": "stream",
     "text": [
      "AtScale connection successful.\n"
     ]
    }
   ],
   "source": [
    "# Call \n",
    "success_rate = m5_accuracy()\n",
    "print(success_rate)"
   ]
  },
  {
   "cell_type": "markdown",
   "metadata": {
    "application/vnd.databricks.v1+cell": {
     "cellMetadata": {
      "byteLimit": 2048000,
      "rowLimit": 10000
     },
     "inputWidgets": {},
     "nuid": "67796b0b-b65f-4403-bcec-25aaf3db8c87",
     "showTitle": false,
     "title": ""
    }
   },
   "source": [
    "### Create Webhook \n",
    "This will let our developers know when their model has been retrained so they can monitor their compute cost and such."
   ]
  },
  {
   "cell_type": "code",
   "execution_count": 0,
   "metadata": {
    "application/vnd.databricks.v1+cell": {
     "cellMetadata": {
      "byteLimit": 2048000,
      "rowLimit": 10000
     },
     "inputWidgets": {},
     "nuid": "54048dc3-bca5-4678-a6cf-528544a196ed",
     "showTitle": false,
     "title": ""
    }
   },
   "outputs": [],
   "source": [
    "%run ./06_Webhook_Set_Up"
   ]
  },
  {
   "cell_type": "code",
   "execution_count": 0,
   "metadata": {
    "application/vnd.databricks.v1+cell": {
     "cellMetadata": {
      "byteLimit": 2048000,
      "rowLimit": 10000
     },
     "inputWidgets": {},
     "nuid": "e246d0d0-db78-40f9-b286-7e04b0fd3ece",
     "showTitle": false,
     "title": ""
    }
   },
   "outputs": [],
   "source": [
    "now = datetime.now()\n",
    "success_message = \"\\n\\nSuccess Rate: \" + str(success_rate) + \"%\""
   ]
  },
  {
   "cell_type": "code",
   "execution_count": 0,
   "metadata": {
    "application/vnd.databricks.v1+cell": {
     "cellMetadata": {
      "byteLimit": 2048000,
      "rowLimit": 10000
     },
     "inputWidgets": {},
     "nuid": "bc7d335c-528f-4c23-96c5-68e698e46233",
     "showTitle": false,
     "title": ""
    }
   },
   "outputs": [
    {
     "output_type": "stream",
     "name": "stdout",
     "output_type": "stream",
     "text": [
      "Webhook Set Up Complete.\n"
     ]
    }
   ],
   "source": [
    "#format success message\n",
    "messages = [\"V--------------ACCURACY TEST----------------V\"]\n",
    "messages += [\"DATA MODEL: \" + data_model]\n",
    "messages += [\"DATE: \" + str(now)]\n",
    "messages += [success_message]\n",
    "messages += [\"*******************************************\"]\n",
    "messages += [\" \"]\n",
    "messages += [\" \"]\n",
    "messages += [\" \"] "
   ]
  },
  {
   "cell_type": "code",
   "execution_count": 0,
   "metadata": {
    "application/vnd.databricks.v1+cell": {
     "cellMetadata": {
      "byteLimit": 2048000,
      "rowLimit": 10000
     },
     "inputWidgets": {},
     "nuid": "c5022720-daef-42ac-a3c6-8377402f7801",
     "showTitle": false,
     "title": ""
    }
   },
   "outputs": [],
   "source": [
    "send_slack_messages(slack_url, channel, messages)"
   ]
  },
  {
   "cell_type": "markdown",
   "metadata": {
    "application/vnd.databricks.v1+cell": {
     "cellMetadata": {
      "byteLimit": 2048000,
      "rowLimit": 10000
     },
     "inputWidgets": {},
     "nuid": "ec305e11-a518-48cd-8d1e-c387a914914e",
     "showTitle": false,
     "title": ""
    }
   },
   "source": [
    "![](/files/images/atscale_logo.png)"
   ]
  }
 ],
 "metadata": {
  "application/vnd.databricks.v1+notebook": {
   "dashboards": [],
   "language": "python",
   "notebookMetadata": {
    "pythonIndentUnit": 2
   },
   "notebookName": "05_Accuracy_UDF",
   "widgets": {}
  }
 },
 "nbformat": 4,
 "nbformat_minor": 0
}

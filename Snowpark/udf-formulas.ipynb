{
 "cells": [
  {
   "cell_type": "markdown",
   "id": "fb31913f",
   "metadata": {},
   "source": [
    "<h1 style=\"text-align:center;font-weight: bold;\"><font color = \"0077A7\">FORMULAS</font></h1><br>\n"
   ]
  },
  {
   "cell_type": "markdown",
   "id": "b4747ed1",
   "metadata": {},
   "source": [
    "First install all the needed dependencies and packages"
   ]
  },
  {
   "cell_type": "code",
   "execution_count": 1,
   "id": "17e256af",
   "metadata": {},
   "outputs": [],
   "source": [
    "import pandas as pd\n",
    "\n",
    "from atscale.client import Client\n",
    "from atscale.data_model import DataModel\n",
    "from atscale.project import Project\n",
    "from atscale.connection import Connection\n",
    "from atscale.eda.feature_engineering import *\n",
    "from atscale.base.enums import Aggs, PandasTableExistsActionType\n",
    "from atscale.db.connections.snowflake import Snowflake\n",
    "\n",
    "from sklearn.linear_model import LinearRegression\n",
    "import joblib\n",
    "import os\n",
    "import sys\n",
    "import snowflake.snowpark as snowpark\n",
    "\n",
    "import snowflake.snowpark.functions as F\n",
    "import snowflake.snowpark.types as T\n",
    "\n",
    "from snowflake.snowpark import Session\n",
    "from snowflake.snowpark.functions import udf, udtf, table_function, call_udf\n",
    "from snowflake.snowpark.types import FloatType, PandasDataFrameType\n",
    "\n",
    "from typing import Iterable, Tuple\n",
    "import json"
   ]
  },
  {
   "cell_type": "markdown",
   "id": "b5d23e06",
   "metadata": {},
   "source": [
    "Connect to AtScale"
   ]
  },
  {
   "cell_type": "code",
   "execution_count": null,
   "id": "9f15baa8",
   "metadata": {},
   "outputs": [],
   "source": [
    "with open(\"/permissions\") as file:\n",
    "    permissions = json.load(file)\n",
    "    \n",
    "with open(\"/requirements\") as f:\n",
    "    packages_version = json.load(f)"
   ]
  },
  {
   "cell_type": "code",
   "execution_count": 2,
   "id": "02d1bc14",
   "metadata": {},
   "outputs": [],
   "source": [
    "client = Client(\n",
    "    server = permissions[\"atscale_server\"],\n",
    "    organization = permissions[\"atscale_organization\"],\n",
    "    username = permissions[\"atscale_username\"],\n",
    "    password = permissions[\"atscale_password\"]\n",
    ")"
   ]
  },
  {
   "cell_type": "code",
   "execution_count": null,
   "id": "22a2d4a6",
   "metadata": {},
   "outputs": [],
   "source": [
    "client.connect()"
   ]
  },
  {
   "cell_type": "code",
   "execution_count": null,
   "id": "478c20bb",
   "metadata": {},
   "outputs": [],
   "source": [
    "project = client.select_project()"
   ]
  },
  {
   "cell_type": "code",
   "execution_count": null,
   "id": "e65a3d36",
   "metadata": {},
   "outputs": [],
   "source": [
    "data_model = project.select_data_model()"
   ]
  },
  {
   "cell_type": "markdown",
   "id": "347e4c2f",
   "metadata": {},
   "source": [
    "Connect to Snowpark"
   ]
  },
  {
   "cell_type": "code",
   "execution_count": 6,
   "id": "272fd172",
   "metadata": {},
   "outputs": [],
   "source": [
    "connection_parameters = {\n",
    "    \"account\": permissions[\"snowflake_account\"],\n",
    "    \"user\": permissions[\"snowflake_username\"],\n",
    "    \"password\": permissions[\"snowflake_password\"],\n",
    "    \"role\": permissions[\"snowflake_role\"],\n",
    "    \"warehouse\": permissions[\"snowflake_warehouse\"],\n",
    "    \"database\": permissions[\"snowflake_database\"],\n",
    "    \"schema\": permissions[\"snowflake_schema\"]\n",
    "}\n",
    "session = Session.builder.configs(connection_parameters).create()"
   ]
  },
  {
   "cell_type": "code",
   "execution_count": 7,
   "id": "d6133da1",
   "metadata": {},
   "outputs": [
    {
     "data": {
      "text/plain": [
       "[Row(status='EASYSTAGE already exists, statement succeeded.')]"
      ]
     },
     "execution_count": 7,
     "metadata": {},
     "output_type": "execute_result"
    }
   ],
   "source": [
    "# create stage\n",
    "session.sql('create stage if not exists EASYSTAGE').collect()"
   ]
  },
  {
   "cell_type": "markdown",
   "id": "ea7a0ed6",
   "metadata": {},
   "source": [
    "# Making a Standard UDF / Stored Procedure"
   ]
  },
  {
   "cell_type": "markdown",
   "id": "f9e330e6",
   "metadata": {},
   "source": [
    "<p>There are two ways to do this\n",
    "<ol><li>using the <font color = \"purple\">@udf</font> decorator to both define and register the function</li>\n",
    "    <li>defining the function first and then registering it after</li>\n",
    "</ol></p>"
   ]
  },
  {
   "cell_type": "code",
   "execution_count": null,
   "id": "f8c67b2d",
   "metadata": {},
   "outputs": [],
   "source": [
    "##################################################### UDF Formula #1 ####################################################\n",
    "\n",
    "# @udf(name = <function_name(doesnt need to match)>, session = <session_variable>, replace = True, stage_location = <stage_name>)\n",
    "# def <function_name>(<input_name>: <input_type>) -> <output_type>:\n",
    "    \n",
    "#     <insert function here>\n",
    "    \n",
    "#     return <variable with output_type>"
   ]
  },
  {
   "cell_type": "code",
   "execution_count": null,
   "id": "3de88d1f",
   "metadata": {},
   "outputs": [],
   "source": [
    "##################################################### UDF Formula #2 ####################################################\n",
    "\n",
    "# def <function_name>(<input_name>: <input_type>) -> <output_type>:\n",
    "    \n",
    "#     <insert function here>\n",
    "    \n",
    "#     return <variable with output_type>"
   ]
  },
  {
   "cell_type": "code",
   "execution_count": null,
   "id": "de389697",
   "metadata": {},
   "outputs": [],
   "source": [
    "                                ### ------- Register the UDF Formula ------- ###\n",
    "    \n",
    "# <name of function> = <session_variable>.udf.register(\n",
    "#     func = <name_of_function>,\n",
    "#     return_type = <snowpark_type_returned>,\n",
    "#     input_types = <snowpark_type_input>,\n",
    "#     is_permanent = True,\n",
    "#     name = <udf_name_to_be_called_by>,\n",
    "#     replace = True,\n",
    "#     stage_location = <@stage_name>,\n",
    "#     imports=[<@stage_name/file_to_import>],\n",
    "#     packages=[f'<package==version'\n",
    "#             ,f'<package==version'\n",
    "#             ,f'<package==version'],\n",
    "#     session=<session_variable>)"
   ]
  },
  {
   "cell_type": "markdown",
   "id": "ba5c317c",
   "metadata": {},
   "source": [
    "### Call the UDF"
   ]
  },
  {
   "cell_type": "code",
   "execution_count": null,
   "id": "472696f3",
   "metadata": {},
   "outputs": [],
   "source": [
    "#<session_name>.sql('''SELECT <UDF_name>(<inputs>)''' ).show()"
   ]
  },
  {
   "cell_type": "markdown",
   "id": "61dcdd1f",
   "metadata": {},
   "source": [
    "<h1 style=\"text-align:left;font-weight: bold;\"><font color = \"green\">Making a Vectorized UDF</font></h1>"
   ]
  },
  {
   "cell_type": "markdown",
   "id": "99931c43",
   "metadata": {},
   "source": [
    "<p>Benefits:</p>\n",
    "<ul><li>Can be more efficient</li>\n",
    "    <li>Works on Batches of Rows</li>\n",
    "    </ul>\n",
    "    <p>Drawbacks:</p>\n",
    "<ul><li>Only uses Pandas Series/Dataframes</li> </ul>\n",
    "    \n"
   ]
  },
  {
   "cell_type": "code",
   "execution_count": null,
   "id": "a98d2ad8",
   "metadata": {},
   "outputs": [],
   "source": [
    "###Define same way as method #2 for UDFs, but with Pandas Series###\n",
    "\n",
    "# def <function_name>(<input_name>: pd.Series) -> pd.Series:\n",
    "    \n",
    "#     <insert function here>\n",
    "    \n",
    "#     return <variable with output_type>"
   ]
  },
  {
   "cell_type": "code",
   "execution_count": null,
   "id": "1929b94f",
   "metadata": {},
   "outputs": [],
   "source": [
    "                                ### ------- Register the UDF Formula ------- ###\n",
    "    \n",
    "# <name of function> = <session_variable>.udf.register(\n",
    "#     func = <name_of_function>,\n",
    "#     return_type = <snowpark_type_returned>,\n",
    "#     input_types = <snowpark_type_input>,\n",
    "#     is_permanent = True,\n",
    "#     name = <udf_name_to_be_called_by>,\n",
    "#     replace = True,\n",
    "#     stage_location = <@stage_name>,\n",
    "#     imports=[<@stage_name/file_to_import>],\n",
    "#     packages=[f'<package==version'\n",
    "#             ,f'<package==version'\n",
    "#             ,f'<package==version'],\n",
    "#     session=<session_variable>)"
   ]
  },
  {
   "cell_type": "markdown",
   "id": "9cf0efcd",
   "metadata": {},
   "source": [
    "### Call the Vectorized UDF"
   ]
  },
  {
   "cell_type": "code",
   "execution_count": null,
   "id": "d929c70e",
   "metadata": {},
   "outputs": [],
   "source": [
    "#<dataframe>.select(add_cols(<dataframe>.col(\"<columm>\"))).to_df(<desired_result_col_name>).collect()"
   ]
  },
  {
   "cell_type": "markdown",
   "id": "f6c9ea7c",
   "metadata": {},
   "source": [
    "<h1 style=\"text-align:left;font-weight: bold;\"><font color = \"purple\">Making a UDTF</font></h1>"
   ]
  },
  {
   "cell_type": "markdown",
   "id": "20ddef4d",
   "metadata": {},
   "source": [
    "<p>A UDTF allows you to return a table for each input. This becomes powerful when doing multiple operations on a column to make a set of column results.\n",
    "    <br>\n",
    "   The creation of UDTFs, however, differs in some ways from the creation of the other two UDFs. To make and register a UDTF you will need to do the following </p>\n",
    "   <ol>\n",
    "    <li>Write an <font color = \"purple\">@udtf</font> decorator (same format as UDF)</li>\n",
    "    <li>Create class to hold your methods</li>\n",
    "    <li>Define an <b><font color = \"blue\">__init__</font></b> method (optional) </li>\n",
    "    <li>Define a <b><font color = \"blue\">process</font></b> method to do the work of the UDTF</li>\n",
    "    <li>Define an <b><font color = \"blue\">end_partition</font></b> method to process logic of partition after process is done(optional) </li>"
   ]
  },
  {
   "cell_type": "code",
   "execution_count": null,
   "id": "0767e682",
   "metadata": {},
   "outputs": [],
   "source": [
    "##################################################### UDTF Formula #####################################################\n",
    "\n",
    "# @udtf(name = <function_name(doesnt need to match)>, input_types = <iterable_snowpark_var>, output_schema = <snowpark_var>, session = <session_variable>, replace = True, stage_location = <stage_name>)\n",
    "# class <class_name>:\n",
    "#     def __init__(self, <vars>):\n",
    "#         <self.vars = vars>\n",
    "        \n",
    "#     def process(self, <some_vars>):\n",
    "#         #do main functionality here\n",
    "#         yield (<result_var1>, <...result_var2>)\n",
    "    \n",
    "#     def end_partition(self, <some_vars>):\n",
    "#         yield (<self.var1>, <...self.vars2>)\n",
    "    "
   ]
  },
  {
   "cell_type": "markdown",
   "id": "2518e64a",
   "metadata": {},
   "source": [
    "### Call the UDTF"
   ]
  },
  {
   "cell_type": "code",
   "execution_count": null,
   "id": "0a61fad4",
   "metadata": {},
   "outputs": [],
   "source": [
    "# session.sql('''select TOP <num_rows> *\n",
    "# from <table_name> as <var>,\n",
    "#     table(\n",
    "#       <udtf_name>(<var>.<col>) OVER (PARTITION BY <num_to_divide_process> ORDER BY <col>))''' ).to_pandas()"
   ]
  },
  {
   "cell_type": "markdown",
   "id": "b36bda7b",
   "metadata": {},
   "source": [
    "<br><br><br><br><br><br>\n",
    "<h1 style=\"text-align:center;font-weight: bold;\"><font color = \"44B5E4\">EXAMPLES</font></h1><br>\n"
   ]
  },
  {
   "cell_type": "markdown",
   "id": "80269e3e",
   "metadata": {},
   "source": [
    "## UDF"
   ]
  },
  {
   "cell_type": "markdown",
   "id": "02a4d62f",
   "metadata": {},
   "source": [
    "<h6><font color='#009ABE'>Method #1</font></h6>"
   ]
  },
  {
   "cell_type": "markdown",
   "id": "2b7a446d",
   "metadata": {},
   "source": [
    "<h5> Simple Modulus UDF"
   ]
  },
  {
   "cell_type": "code",
   "execution_count": null,
   "id": "690f15ee",
   "metadata": {},
   "outputs": [],
   "source": [
    "@udf(name = \"modulus\", session = session, replace = True, stage_location = \"EASYSTAGE\")\n",
    "def modulus(pair: tuple) -> int:\n",
    "    main = pair[0]\n",
    "    divisor = pair[1]\n",
    "    \n",
    "    return main % divisor"
   ]
  },
  {
   "cell_type": "code",
   "execution_count": null,
   "id": "988ad3f7",
   "metadata": {},
   "outputs": [],
   "source": [
    "session.sql('''SELECT modulus([6,3])''').show()"
   ]
  },
  {
   "cell_type": "markdown",
   "id": "53fcebef",
   "metadata": {},
   "source": [
    "<h5>Modulus of column UDF"
   ]
  },
  {
   "cell_type": "code",
   "execution_count": null,
   "id": "16b06770",
   "metadata": {},
   "outputs": [],
   "source": [
    "#Define/Register\n",
    "@udf(name = \"mod_col\", session = session, replace = True, stage_location = \"EASYSTAGE\")\n",
    "def mod_col(col: list, div: int) -> list:\n",
    "    return [i % div for i in col]"
   ]
  },
  {
   "cell_type": "code",
   "execution_count": null,
   "id": "dee1f0fa",
   "metadata": {},
   "outputs": [],
   "source": [
    "df = session.create_dataframe([[1,2],[3,4]]).to_df(\"a\",\"b\")"
   ]
  },
  {
   "cell_type": "code",
   "execution_count": null,
   "id": "036f0a53",
   "metadata": {},
   "outputs": [],
   "source": [
    "#Call\n",
    "df.select(mod_col(df.col(\"a\"),2)).to_df(\"results\").collect()"
   ]
  },
  {
   "cell_type": "markdown",
   "id": "1f7a04d1",
   "metadata": {},
   "source": [
    "<h6><font color='#009ABE'>Method #2</font></h1>"
   ]
  },
  {
   "cell_type": "code",
   "execution_count": null,
   "id": "57859dfa",
   "metadata": {},
   "outputs": [],
   "source": [
    "#Define\n",
    "def random_names() -> str:\n",
    "    import random\n",
    "\n",
    "    choices = [\"Betty\", \"Matt\", \"Charles\", \"Owen\", \"Julia\", \"Judy\"]\n",
    "    i=random.randint(0, len(choices)-1)\n",
    "    \n",
    "    return choices[i]"
   ]
  },
  {
   "cell_type": "code",
   "execution_count": null,
   "id": "94574ece",
   "metadata": {},
   "outputs": [],
   "source": [
    "#Register\n",
    "random_names = session.udf.register(\n",
    "    func = random_names,\n",
    "    return_type = T.StringType(),\n",
    "    is_permanent = True,\n",
    "    name = \"rand_names\",\n",
    "    replace = True,\n",
    "    stage_location = \"@EASYSTAGE\",\n",
    "    session = session )"
   ]
  },
  {
   "cell_type": "code",
   "execution_count": null,
   "id": "c227b40f",
   "metadata": {},
   "outputs": [],
   "source": [
    "#Call\n",
    "session.sql('''SELECT RAND_NAMES()''' ).show()"
   ]
  },
  {
   "cell_type": "markdown",
   "id": "5c938704",
   "metadata": {},
   "source": [
    "## Vectorized UDF"
   ]
  },
  {
   "cell_type": "code",
   "execution_count": null,
   "id": "94be5fd9",
   "metadata": {},
   "outputs": [],
   "source": [
    "#Define \n",
    "def add_cols(series1: pd.Series, series2: pd.Series) -> pd.Series:\n",
    "    return series1 + series2"
   ]
  },
  {
   "cell_type": "code",
   "execution_count": null,
   "id": "942e40a7",
   "metadata": {},
   "outputs": [],
   "source": [
    "#Register \n",
    "add_cols_udf = session.udf.register(\n",
    "                func =add_cols,\n",
    "               return_type = IntegerType(),\n",
    "               input_types=[IntegerType()],\n",
    "                is_permanent = True,\n",
    "                replace = True,\n",
    "                name = \"add_cols\",\n",
    "                stage_location = \"@EASYSTAGE\")"
   ]
  },
  {
   "cell_type": "code",
   "execution_count": null,
   "id": "9c2ced9a",
   "metadata": {},
   "outputs": [],
   "source": [
    "#Call\n",
    "df.select(add_cols(df.col(\"a\"),df.col(\"b\"))).to_df(\"results\").collect()"
   ]
  },
  {
   "cell_type": "markdown",
   "id": "b46a90c9",
   "metadata": {},
   "source": [
    "## UDTF"
   ]
  },
  {
   "cell_type": "code",
   "execution_count": 8,
   "id": "2c53f41c",
   "metadata": {},
   "outputs": [],
   "source": [
    "#Define/Register\n",
    "@udtf(name = \"date_splitter\", input_types = [T.DateType()], output_schema = T.StructType([T.StructField(\"years\", T.StringType()),T.StructField(\"months\", T.StringType()), T.StructField(\"days\", T.StringType())]), replace = True, stage_location = \"@EASYSTAGE\", session = session)\n",
    "class split_date:\n",
    "    def __init__(self):\n",
    "        self.years = 0\n",
    "        self.months = 0\n",
    "        self.days = 0\n",
    "\n",
    "    def process(self, date):\n",
    "        date = str(date)\n",
    "        self.years = date[0:4]\n",
    "        self.months = date[5:7]\n",
    "        self.days = date[8:]\n",
    "        yield (self.years, self.months, self.days)\n",
    "\n",
    "    def end_partition(self) -> Iterable[Tuple[int, int, int]]:\n",
    "        yield (self.years, self.months, self.days)"
   ]
  },
  {
   "cell_type": "code",
   "execution_count": 10,
   "id": "e9b92a2b",
   "metadata": {},
   "outputs": [
    {
     "data": {
      "text/html": [
       "<div>\n",
       "<style scoped>\n",
       "    .dataframe tbody tr th:only-of-type {\n",
       "        vertical-align: middle;\n",
       "    }\n",
       "\n",
       "    .dataframe tbody tr th {\n",
       "        vertical-align: top;\n",
       "    }\n",
       "\n",
       "    .dataframe thead th {\n",
       "        text-align: right;\n",
       "    }\n",
       "</style>\n",
       "<table border=\"1\" class=\"dataframe\">\n",
       "  <thead>\n",
       "    <tr style=\"text-align: right;\">\n",
       "      <th></th>\n",
       "      <th>DATE</th>\n",
       "      <th>DAY_OF_WEEK</th>\n",
       "      <th>MAX_SALES</th>\n",
       "      <th>MAX_UNITS_SOLD</th>\n",
       "      <th>TOTAL_ITEMS</th>\n",
       "      <th>TOTAL_SALES</th>\n",
       "      <th>AVERAGE_SALES</th>\n",
       "      <th>AVERAGE_UNITS_SOLD</th>\n",
       "      <th>ITEM</th>\n",
       "      <th>STATE</th>\n",
       "      <th>...</th>\n",
       "      <th>AVERAGE_SALES_6_MONTH_LAG_SHIFT_1</th>\n",
       "      <th>AVERAGE_SALES_12_MONTH_SUM_SHIFT_1</th>\n",
       "      <th>AVERAGE_SALES_12_MONTH_AVG_SHIFT_1</th>\n",
       "      <th>AVERAGE_SALES_12_MONTH_STDDEV_SHIFT_1</th>\n",
       "      <th>AVERAGE_SALES_12_MONTH_MIN_SHIFT_1</th>\n",
       "      <th>AVERAGE_SALES_12_MONTH_MAX_SHIFT_1</th>\n",
       "      <th>AVERAGE_SALES_12_MONTH_LAG_SHIFT_1</th>\n",
       "      <th>YEARS</th>\n",
       "      <th>MONTHS</th>\n",
       "      <th>DAYS</th>\n",
       "    </tr>\n",
       "  </thead>\n",
       "  <tbody>\n",
       "    <tr>\n",
       "      <th>0</th>\n",
       "      <td>2015-01-01</td>\n",
       "      <td>6.0</td>\n",
       "      <td>4.97</td>\n",
       "      <td>0.0</td>\n",
       "      <td>1.0</td>\n",
       "      <td>4.97</td>\n",
       "      <td>4.97</td>\n",
       "      <td>0</td>\n",
       "      <td>HOUSEHOLD_2_176</td>\n",
       "      <td>WI</td>\n",
       "      <td>...</td>\n",
       "      <td>0.46</td>\n",
       "      <td>19.06</td>\n",
       "      <td>1.588333</td>\n",
       "      <td>1.171369</td>\n",
       "      <td>0.23</td>\n",
       "      <td>3.50</td>\n",
       "      <td>1.96</td>\n",
       "      <td>2015</td>\n",
       "      <td>01</td>\n",
       "      <td>01</td>\n",
       "    </tr>\n",
       "    <tr>\n",
       "      <th>1</th>\n",
       "      <td>2015-01-01</td>\n",
       "      <td>6.0</td>\n",
       "      <td>1.96</td>\n",
       "      <td>9.0</td>\n",
       "      <td>1.0</td>\n",
       "      <td>1.96</td>\n",
       "      <td>1.96</td>\n",
       "      <td>9</td>\n",
       "      <td>FOODS_1_004</td>\n",
       "      <td>TX</td>\n",
       "      <td>...</td>\n",
       "      <td>0.48</td>\n",
       "      <td>22.96</td>\n",
       "      <td>1.913333</td>\n",
       "      <td>1.510312</td>\n",
       "      <td>0.23</td>\n",
       "      <td>4.97</td>\n",
       "      <td>0.94</td>\n",
       "      <td>2015</td>\n",
       "      <td>01</td>\n",
       "      <td>01</td>\n",
       "    </tr>\n",
       "    <tr>\n",
       "      <th>2</th>\n",
       "      <td>2015-01-01</td>\n",
       "      <td>6.0</td>\n",
       "      <td>4.97</td>\n",
       "      <td>5.0</td>\n",
       "      <td>1.0</td>\n",
       "      <td>4.97</td>\n",
       "      <td>4.97</td>\n",
       "      <td>5</td>\n",
       "      <td>HOUSEHOLD_2_176</td>\n",
       "      <td>TX</td>\n",
       "      <td>...</td>\n",
       "      <td>0.46</td>\n",
       "      <td>18.33</td>\n",
       "      <td>1.527500</td>\n",
       "      <td>1.073161</td>\n",
       "      <td>0.23</td>\n",
       "      <td>3.50</td>\n",
       "      <td>1.96</td>\n",
       "      <td>2015</td>\n",
       "      <td>01</td>\n",
       "      <td>01</td>\n",
       "    </tr>\n",
       "    <tr>\n",
       "      <th>3</th>\n",
       "      <td>2015-01-01</td>\n",
       "      <td>6.0</td>\n",
       "      <td>4.97</td>\n",
       "      <td>0.0</td>\n",
       "      <td>1.0</td>\n",
       "      <td>4.97</td>\n",
       "      <td>4.97</td>\n",
       "      <td>0</td>\n",
       "      <td>HOUSEHOLD_2_176</td>\n",
       "      <td>CA</td>\n",
       "      <td>...</td>\n",
       "      <td>0.46</td>\n",
       "      <td>18.93</td>\n",
       "      <td>1.577500</td>\n",
       "      <td>1.174069</td>\n",
       "      <td>0.23</td>\n",
       "      <td>3.50</td>\n",
       "      <td>1.96</td>\n",
       "      <td>2015</td>\n",
       "      <td>01</td>\n",
       "      <td>01</td>\n",
       "    </tr>\n",
       "    <tr>\n",
       "      <th>4</th>\n",
       "      <td>2015-01-01</td>\n",
       "      <td>6.0</td>\n",
       "      <td>1.96</td>\n",
       "      <td>2.0</td>\n",
       "      <td>1.0</td>\n",
       "      <td>1.96</td>\n",
       "      <td>1.96</td>\n",
       "      <td>2</td>\n",
       "      <td>FOODS_1_004</td>\n",
       "      <td>CA</td>\n",
       "      <td>...</td>\n",
       "      <td>0.48</td>\n",
       "      <td>23.98</td>\n",
       "      <td>1.998333</td>\n",
       "      <td>1.570187</td>\n",
       "      <td>0.23</td>\n",
       "      <td>4.97</td>\n",
       "      <td>0.98</td>\n",
       "      <td>2015</td>\n",
       "      <td>01</td>\n",
       "      <td>01</td>\n",
       "    </tr>\n",
       "    <tr>\n",
       "      <th>...</th>\n",
       "      <td>...</td>\n",
       "      <td>...</td>\n",
       "      <td>...</td>\n",
       "      <td>...</td>\n",
       "      <td>...</td>\n",
       "      <td>...</td>\n",
       "      <td>...</td>\n",
       "      <td>...</td>\n",
       "      <td>...</td>\n",
       "      <td>...</td>\n",
       "      <td>...</td>\n",
       "      <td>...</td>\n",
       "      <td>...</td>\n",
       "      <td>...</td>\n",
       "      <td>...</td>\n",
       "      <td>...</td>\n",
       "      <td>...</td>\n",
       "      <td>...</td>\n",
       "      <td>...</td>\n",
       "      <td>...</td>\n",
       "      <td>...</td>\n",
       "    </tr>\n",
       "    <tr>\n",
       "      <th>67075</th>\n",
       "      <td>2016-04-24</td>\n",
       "      <td>2.0</td>\n",
       "      <td>1.97</td>\n",
       "      <td>1.0</td>\n",
       "      <td>1.0</td>\n",
       "      <td>1.97</td>\n",
       "      <td>1.97</td>\n",
       "      <td>1</td>\n",
       "      <td>HOUSEHOLD_2_142</td>\n",
       "      <td>CA</td>\n",
       "      <td>...</td>\n",
       "      <td>1.58</td>\n",
       "      <td>19.98</td>\n",
       "      <td>1.665000</td>\n",
       "      <td>1.278988</td>\n",
       "      <td>0.23</td>\n",
       "      <td>3.97</td>\n",
       "      <td>4.97</td>\n",
       "      <td>2016</td>\n",
       "      <td>04</td>\n",
       "      <td>24</td>\n",
       "    </tr>\n",
       "    <tr>\n",
       "      <th>67076</th>\n",
       "      <td>2016-04-24</td>\n",
       "      <td>2.0</td>\n",
       "      <td>4.97</td>\n",
       "      <td>5.0</td>\n",
       "      <td>1.0</td>\n",
       "      <td>4.97</td>\n",
       "      <td>4.97</td>\n",
       "      <td>5</td>\n",
       "      <td>HOUSEHOLD_2_176</td>\n",
       "      <td>CA</td>\n",
       "      <td>...</td>\n",
       "      <td>0.48</td>\n",
       "      <td>19.99</td>\n",
       "      <td>1.665833</td>\n",
       "      <td>1.279200</td>\n",
       "      <td>0.23</td>\n",
       "      <td>3.97</td>\n",
       "      <td>1.96</td>\n",
       "      <td>2016</td>\n",
       "      <td>04</td>\n",
       "      <td>24</td>\n",
       "    </tr>\n",
       "    <tr>\n",
       "      <th>67077</th>\n",
       "      <td>2016-04-24</td>\n",
       "      <td>2.0</td>\n",
       "      <td>0.48</td>\n",
       "      <td>1.0</td>\n",
       "      <td>1.0</td>\n",
       "      <td>0.48</td>\n",
       "      <td>0.48</td>\n",
       "      <td>1</td>\n",
       "      <td>HOBBIES_1_178</td>\n",
       "      <td>TX</td>\n",
       "      <td>...</td>\n",
       "      <td>4.97</td>\n",
       "      <td>24.90</td>\n",
       "      <td>2.075000</td>\n",
       "      <td>1.401898</td>\n",
       "      <td>0.23</td>\n",
       "      <td>4.97</td>\n",
       "      <td>0.48</td>\n",
       "      <td>2016</td>\n",
       "      <td>04</td>\n",
       "      <td>24</td>\n",
       "    </tr>\n",
       "    <tr>\n",
       "      <th>67078</th>\n",
       "      <td>2016-04-24</td>\n",
       "      <td>2.0</td>\n",
       "      <td>0.48</td>\n",
       "      <td>0.0</td>\n",
       "      <td>1.0</td>\n",
       "      <td>0.48</td>\n",
       "      <td>0.48</td>\n",
       "      <td>0</td>\n",
       "      <td>HOBBIES_1_268</td>\n",
       "      <td>TX</td>\n",
       "      <td>...</td>\n",
       "      <td>1.96</td>\n",
       "      <td>24.50</td>\n",
       "      <td>2.041667</td>\n",
       "      <td>1.437206</td>\n",
       "      <td>0.23</td>\n",
       "      <td>4.97</td>\n",
       "      <td>0.88</td>\n",
       "      <td>2016</td>\n",
       "      <td>04</td>\n",
       "      <td>24</td>\n",
       "    </tr>\n",
       "    <tr>\n",
       "      <th>67079</th>\n",
       "      <td>None</td>\n",
       "      <td>NaN</td>\n",
       "      <td>NaN</td>\n",
       "      <td>NaN</td>\n",
       "      <td>NaN</td>\n",
       "      <td>NaN</td>\n",
       "      <td>None</td>\n",
       "      <td>None</td>\n",
       "      <td>None</td>\n",
       "      <td>None</td>\n",
       "      <td>...</td>\n",
       "      <td>None</td>\n",
       "      <td>NaN</td>\n",
       "      <td>NaN</td>\n",
       "      <td>NaN</td>\n",
       "      <td>NaN</td>\n",
       "      <td>NaN</td>\n",
       "      <td>None</td>\n",
       "      <td>2016</td>\n",
       "      <td>04</td>\n",
       "      <td>24</td>\n",
       "    </tr>\n",
       "  </tbody>\n",
       "</table>\n",
       "<p>67080 rows × 33 columns</p>\n",
       "</div>"
      ],
      "text/plain": [
       "             DATE  DAY_OF_WEEK  MAX_SALES  MAX_UNITS_SOLD  TOTAL_ITEMS  \\\n",
       "0      2015-01-01          6.0       4.97             0.0          1.0   \n",
       "1      2015-01-01          6.0       1.96             9.0          1.0   \n",
       "2      2015-01-01          6.0       4.97             5.0          1.0   \n",
       "3      2015-01-01          6.0       4.97             0.0          1.0   \n",
       "4      2015-01-01          6.0       1.96             2.0          1.0   \n",
       "...           ...          ...        ...             ...          ...   \n",
       "67075  2016-04-24          2.0       1.97             1.0          1.0   \n",
       "67076  2016-04-24          2.0       4.97             5.0          1.0   \n",
       "67077  2016-04-24          2.0       0.48             1.0          1.0   \n",
       "67078  2016-04-24          2.0       0.48             0.0          1.0   \n",
       "67079        None          NaN        NaN             NaN          NaN   \n",
       "\n",
       "       TOTAL_SALES AVERAGE_SALES AVERAGE_UNITS_SOLD             ITEM STATE  \\\n",
       "0             4.97          4.97                  0  HOUSEHOLD_2_176    WI   \n",
       "1             1.96          1.96                  9      FOODS_1_004    TX   \n",
       "2             4.97          4.97                  5  HOUSEHOLD_2_176    TX   \n",
       "3             4.97          4.97                  0  HOUSEHOLD_2_176    CA   \n",
       "4             1.96          1.96                  2      FOODS_1_004    CA   \n",
       "...            ...           ...                ...              ...   ...   \n",
       "67075         1.97          1.97                  1  HOUSEHOLD_2_142    CA   \n",
       "67076         4.97          4.97                  5  HOUSEHOLD_2_176    CA   \n",
       "67077         0.48          0.48                  1    HOBBIES_1_178    TX   \n",
       "67078         0.48          0.48                  0    HOBBIES_1_268    TX   \n",
       "67079          NaN          None               None             None  None   \n",
       "\n",
       "       ... AVERAGE_SALES_6_MONTH_LAG_SHIFT_1  \\\n",
       "0      ...                              0.46   \n",
       "1      ...                              0.48   \n",
       "2      ...                              0.46   \n",
       "3      ...                              0.46   \n",
       "4      ...                              0.48   \n",
       "...    ...                               ...   \n",
       "67075  ...                              1.58   \n",
       "67076  ...                              0.48   \n",
       "67077  ...                              4.97   \n",
       "67078  ...                              1.96   \n",
       "67079  ...                              None   \n",
       "\n",
       "      AVERAGE_SALES_12_MONTH_SUM_SHIFT_1  AVERAGE_SALES_12_MONTH_AVG_SHIFT_1  \\\n",
       "0                                  19.06                            1.588333   \n",
       "1                                  22.96                            1.913333   \n",
       "2                                  18.33                            1.527500   \n",
       "3                                  18.93                            1.577500   \n",
       "4                                  23.98                            1.998333   \n",
       "...                                  ...                                 ...   \n",
       "67075                              19.98                            1.665000   \n",
       "67076                              19.99                            1.665833   \n",
       "67077                              24.90                            2.075000   \n",
       "67078                              24.50                            2.041667   \n",
       "67079                                NaN                                 NaN   \n",
       "\n",
       "       AVERAGE_SALES_12_MONTH_STDDEV_SHIFT_1  \\\n",
       "0                                   1.171369   \n",
       "1                                   1.510312   \n",
       "2                                   1.073161   \n",
       "3                                   1.174069   \n",
       "4                                   1.570187   \n",
       "...                                      ...   \n",
       "67075                               1.278988   \n",
       "67076                               1.279200   \n",
       "67077                               1.401898   \n",
       "67078                               1.437206   \n",
       "67079                                    NaN   \n",
       "\n",
       "       AVERAGE_SALES_12_MONTH_MIN_SHIFT_1  AVERAGE_SALES_12_MONTH_MAX_SHIFT_1  \\\n",
       "0                                    0.23                                3.50   \n",
       "1                                    0.23                                4.97   \n",
       "2                                    0.23                                3.50   \n",
       "3                                    0.23                                3.50   \n",
       "4                                    0.23                                4.97   \n",
       "...                                   ...                                 ...   \n",
       "67075                                0.23                                3.97   \n",
       "67076                                0.23                                3.97   \n",
       "67077                                0.23                                4.97   \n",
       "67078                                0.23                                4.97   \n",
       "67079                                 NaN                                 NaN   \n",
       "\n",
       "       AVERAGE_SALES_12_MONTH_LAG_SHIFT_1 YEARS  MONTHS  DAYS  \n",
       "0                                    1.96  2015      01    01  \n",
       "1                                    0.94  2015      01    01  \n",
       "2                                    1.96  2015      01    01  \n",
       "3                                    1.96  2015      01    01  \n",
       "4                                    0.98  2015      01    01  \n",
       "...                                   ...   ...     ...   ...  \n",
       "67075                                4.97  2016      04    24  \n",
       "67076                                1.96  2016      04    24  \n",
       "67077                                0.48  2016      04    24  \n",
       "67078                                0.88  2016      04    24  \n",
       "67079                                None  2016      04    24  \n",
       "\n",
       "[67080 rows x 33 columns]"
      ]
     },
     "execution_count": 10,
     "metadata": {},
     "output_type": "execute_result"
    }
   ],
   "source": [
    "#Call\n",
    "session.sql('''select *\n",
    "from WALMART_SNOWPARK as t,\n",
    "    table(\n",
    "      DATE_SPLITTER(t.date) OVER (PARTITION BY 10 ORDER BY date))''' ).to_pandas()"
   ]
  },
  {
   "cell_type": "code",
   "execution_count": null,
   "id": "f803473d",
   "metadata": {},
   "outputs": [],
   "source": []
  }
 ],
 "metadata": {
  "kernelspec": {
   "display_name": "Python 3 (ipykernel)",
   "language": "python",
   "name": "python3"
  },
  "language_info": {
   "codemirror_mode": {
    "name": "ipython",
    "version": 3
   },
   "file_extension": ".py",
   "mimetype": "text/x-python",
   "name": "python",
   "nbconvert_exporter": "python",
   "pygments_lexer": "ipython3",
   "version": "3.8.16"
  }
 },
 "nbformat": 4,
 "nbformat_minor": 5
}

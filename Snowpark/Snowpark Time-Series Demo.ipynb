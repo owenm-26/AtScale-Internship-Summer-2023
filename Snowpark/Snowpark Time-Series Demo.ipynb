{
 "cells": [
  {
   "cell_type": "markdown",
   "id": "1e85d08c",
   "metadata": {},
   "source": [
    "<h1 style=\"text-align:center;font-weight: bold;\"><font color = \"0077A7\" size = \"10px\">Snowpark Time-Series Demo\n",
    "  </font></h1>\n",
    "<p style=\"text-align:center;\">At the moment the <code>FORECAST</code> object creation step has not been able to get working but here are the steps on how someone can create the object. Below are provided two ways:</p>\n",
    "</br>\n",
    "<b>\n",
    "<ol>\n",
    "    <li>With data from the AtScale semantic layer</li>\n",
    "    <li>With data in Snowflake using pure SQL to access it </li></ol></b>"
   ]
  },
  {
   "cell_type": "markdown",
   "id": "4864a734",
   "metadata": {},
   "source": [
    "# AtScale Connection"
   ]
  },
  {
   "cell_type": "code",
   "execution_count": 5,
   "id": "afd09aae",
   "metadata": {},
   "outputs": [],
   "source": [
    "from atscale.client import Client\n",
    "from atscale.data_model import DataModel\n",
    "from atscale.project import Project\n",
    "from atscale.db.connections import Snowflake\n",
    "import json"
   ]
  },
  {
   "cell_type": "code",
   "execution_count": null,
   "id": "fb2aa742",
   "metadata": {},
   "outputs": [],
   "source": [
    "with open(\"/permissions\") as file:\n",
    "    permissions = json.load(file)\n",
    "    \n",
    "with open(\"/requirements\") as f:\n",
    "    packages_version = json.load(f)"
   ]
  },
  {
   "cell_type": "code",
   "execution_count": 6,
   "id": "8d1460c4",
   "metadata": {},
   "outputs": [],
   "source": [
    "client = Client(\n",
    "    server = permissions[\"atscale_server\"],\n",
    "    organization = permissions[\"atscale_organization\"],\n",
    "    username = permissions[\"atscale_username\"],\n",
    "    password = permissions[\"atscale_password\"]\n",
    ")"
   ]
  },
  {
   "cell_type": "code",
   "execution_count": 7,
   "id": "9ecc92fe",
   "metadata": {},
   "outputs": [],
   "source": [
    "client.connect()"
   ]
  },
  {
   "cell_type": "code",
   "execution_count": 8,
   "id": "9e18df31",
   "metadata": {},
   "outputs": [
    {
     "name": "stdout",
     "output_type": "stream",
     "text": [
      "Please choose a project:\n",
      "Automatically selecting only option: \"ID: 3e0c5e50-66d9-4ac4-6f3f-1fe7064ea269: Name: M5 Walmart Sales GBQ\"\n",
      "Please choose a published project:\n",
      "Automatically selecting only option: \"ID: 8af58fec-6832-4b46-76a3-f768cdbe4852: Name: M5 Walmart Sales GBQ\"\n"
     ]
    }
   ],
   "source": [
    "project = client.select_project(name_contains=\"M5 Walmart Sales\")"
   ]
  },
  {
   "cell_type": "code",
   "execution_count": 9,
   "id": "45a4d02a",
   "metadata": {},
   "outputs": [
    {
     "name": "stdout",
     "output_type": "stream",
     "text": [
      "Please choose a data model:\n",
      "Automatically selecting only option: \"ID: f99aafe3-66ac-4df6-5096-1305cef92aa1: Name: m5_walmart_sales\"\n"
     ]
    }
   ],
   "source": [
    "dm = project.select_data_model()"
   ]
  },
  {
   "cell_type": "markdown",
   "id": "2d6625ce",
   "metadata": {},
   "source": [
    "# Snowpark Set Up"
   ]
  },
  {
   "cell_type": "code",
   "execution_count": 1,
   "id": "a88940be",
   "metadata": {},
   "outputs": [],
   "source": [
    "from snowflake.snowpark.dataframe import col\n",
    "from snowflake.snowpark import Session\n",
    "\n",
    "import pkg_resources\n",
    "import pandas as pd"
   ]
  },
  {
   "cell_type": "code",
   "execution_count": 3,
   "id": "f4c77877",
   "metadata": {},
   "outputs": [],
   "source": [
    "connection_parameters = {\n",
    "    \"account\": permissions[\"snowflake_account\"],\n",
    "    \"user\": permissions[\"snowflake_username\"],\n",
    "    \"password\": permissions[\"snowflake_password\"],\n",
    "    \"role\": permissions[\"snowflake_role\"],\n",
    "    \"warehouse\": permissions[\"snowflake_warehouse\"],\n",
    "    \"database\": permissions[\"snowflake_database\"],\n",
    "    \"schema\": permissions[\"snowflake_schema\"]\n",
    "}"
   ]
  },
  {
   "cell_type": "code",
   "execution_count": 4,
   "id": "ee46e8d6",
   "metadata": {},
   "outputs": [],
   "source": [
    "session = Session.builder.configs(connection_parameters).create()"
   ]
  },
  {
   "cell_type": "markdown",
   "id": "9d19e267",
   "metadata": {},
   "source": [
    "</br></br><h1 style=\"text-align:center;font-weight: bold;\"><font color = \"0077A7\" size = \"10px\"> USING ATSCALE x SNOWFLAKE</font></h1>\n",
    "\n",
    "<p style=\"text-align:center;\"><font color = \"0077A7\">This will bring the data from AtScale into Snowflake with <b>Python</b> and use <b>SQL</b> in Snowflake.</font></p></br></br>"
   ]
  },
  {
   "cell_type": "markdown",
   "id": "c08669d3",
   "metadata": {},
   "source": [
    "# Feature Engineering"
   ]
  },
  {
   "cell_type": "code",
   "execution_count": 10,
   "id": "a9339bc4",
   "metadata": {},
   "outputs": [
    {
     "data": {
      "text/plain": [
       "['average_sales',\n",
       " 'average_units_sold',\n",
       " 'm_UNITS_SOLD_stddev_pop',\n",
       " 'max_sales',\n",
       " 'max_units_sold',\n",
       " 'new_measure',\n",
       " 'population_variance_sales',\n",
       " 'population_variance_units_sold',\n",
       " 'sample_standard_deviation_sales',\n",
       " 'sample_standard_deviation_units_sold',\n",
       " 'sample_variance_units_sold',\n",
       " 'total_categories',\n",
       " 'total_departments',\n",
       " 'total_items',\n",
       " 'total_sales',\n",
       " 'total_states',\n",
       " 'total_stores',\n",
       " 'total_transactions',\n",
       " 'total_units_sold',\n",
       " 'day_over_day_units_sold',\n",
       " 'new_calculated_measure',\n",
       " 'previous_days_units_sold',\n",
       " 'previous_weeks_units_sold',\n",
       " 'total_sales_30_prd_mv_avg',\n",
       " 'total_units_sold_30_prd_mv_avg',\n",
       " 'week_over_week_units_sold']"
      ]
     },
     "execution_count": 10,
     "metadata": {},
     "output_type": "execute_result"
    }
   ],
   "source": [
    "# Get numeric features \n",
    "num_features = dm.get_all_numeric_feature_names()\n",
    "num_features"
   ]
  },
  {
   "cell_type": "code",
   "execution_count": 11,
   "id": "2bf13fae",
   "metadata": {},
   "outputs": [
    {
     "data": {
      "text/plain": [
       "['year',\n",
       " 'month',\n",
       " 'date',\n",
       " 'day_name',\n",
       " 'day_of_week',\n",
       " 'event_name_1',\n",
       " 'event_name_2',\n",
       " 'event_type_1',\n",
       " 'event_type_2',\n",
       " 'weekday',\n",
       " 'category',\n",
       " 'department',\n",
       " 'item',\n",
       " 'state',\n",
       " 'store']"
      ]
     },
     "execution_count": 11,
     "metadata": {},
     "output_type": "execute_result"
    }
   ],
   "source": [
    "# Get categorical features \n",
    "cat_features = dm.get_all_categorical_feature_names()\n",
    "cat_features"
   ]
  },
  {
   "cell_type": "code",
   "execution_count": 12,
   "id": "82358435",
   "metadata": {},
   "outputs": [],
   "source": [
    "df = dm.get_data(['date', 'total_units_sold', 'weekday', 'day_of_week', 'event_name_1'], limit = 50000)\n",
    "df.head()"
   ]
  },
  {
   "cell_type": "markdown",
   "id": "8b3b77c8",
   "metadata": {},
   "source": [
    "# Using Snowflake"
   ]
  },
  {
   "cell_type": "code",
   "execution_count": 13,
   "id": "50617ed9",
   "metadata": {},
   "outputs": [
    {
     "data": {
      "text/plain": [
       "<snowflake.snowpark.table.Table at 0x14be03040>"
      ]
     },
     "execution_count": 13,
     "metadata": {},
     "output_type": "execute_result"
    }
   ],
   "source": [
    "# Write table to Snowflake\n",
    "table_name = 'TS_DEMO'\n",
    "session.write_pandas(df, table_name, auto_create_table=True, overwrite=True)"
   ]
  },
  {
   "cell_type": "markdown",
   "id": "db7b9f96",
   "metadata": {},
   "source": [
    "In order to make a Forecasting Object you must specify the timestamp column of type timestamp, we will use Snowflake's <code>TO_TIMESTAMP_NTZ()</code> to convert our datetime column to a timestamp."
   ]
  },
  {
   "cell_type": "code",
   "execution_count": 14,
   "id": "07cf88c6",
   "metadata": {},
   "outputs": [
    {
     "name": "stdout",
     "output_type": "stream",
     "text": [
      "--------------------------------------------------\n",
      "|\"status\"                                        |\n",
      "--------------------------------------------------\n",
      "|Table TIMESTAMP_INCLUDED successfully created.  |\n",
      "--------------------------------------------------\n",
      "\n"
     ]
    }
   ],
   "source": [
    "# Cast DT to a timestamp and create a table\n",
    "timestamp_sql = 'CREATE OR REPLACE TABLE timestamp_included ' + \\\n",
    "                '(timestamp, date, total_units_sold, weekday, day_of_week, event_name_1)' + \\ \n",
    "                'AS SELECT TO_TIMESTAMP_NTZ(\"date\"), \"date\",\"total_units_sold\", \"weekday\", \"day_of_week\", \"event_name_1\" ' + \\\n",
    "                'FROM TS_DEMO'\n",
    "session.sql(timestamp_sql).show()"
   ]
  },
  {
   "cell_type": "code",
   "execution_count": 15,
   "id": "35855247",
   "metadata": {},
   "outputs": [
    {
     "name": "stdout",
     "output_type": "stream",
     "text": [
      "---------------------------------\n",
      "|\"status\"                       |\n",
      "---------------------------------\n",
      "|View V0 successfully created.  |\n",
      "---------------------------------\n",
      "\n"
     ]
    }
   ],
   "source": [
    "# Create a view to use as a path for INPUT_DATA\n",
    "view_sql = \"CREATE OR REPLACE VIEW v0 AS SELECT * FROM timestamp_included\"\n",
    "session.sql(view_sql).show()"
   ]
  },
  {
   "cell_type": "code",
   "execution_count": 16,
   "id": "582ff6c0",
   "metadata": {},
   "outputs": [
    {
     "name": "stdout",
     "output_type": "stream",
     "text": [
      "------------------------------------------------------------------------------------------------------\n",
      "|\"TIMESTAMP\"          |\"DATE\"      |\"TOTAL_UNITS_SOLD\"  |\"WEEKDAY\"  |\"DAY_OF_WEEK\"  |\"EVENT_NAME_1\"  |\n",
      "------------------------------------------------------------------------------------------------------\n",
      "|2011-01-29 00:00:00  |2011-01-29  |3933                |Saturday   |1              |                |\n",
      "|2011-01-30 00:00:00  |2011-01-30  |3841                |Sunday     |2              |                |\n",
      "|2011-01-31 00:00:00  |2011-01-31  |2709                |Monday     |3              |                |\n",
      "|2011-02-01 00:00:00  |2011-02-01  |2905                |Tuesday    |4              |                |\n",
      "|2011-02-02 00:00:00  |2011-02-02  |2289                |Wednesday  |5              |                |\n",
      "|2011-02-03 00:00:00  |2011-02-03  |3546                |Thursday   |6              |                |\n",
      "|2011-02-04 00:00:00  |2011-02-04  |3473                |Friday     |7              |                |\n",
      "|2011-02-05 00:00:00  |2011-02-05  |4889                |Saturday   |1              |                |\n",
      "|2011-02-06 00:00:00  |2011-02-06  |3829                |Sunday     |2              |SuperBowl       |\n",
      "|2011-02-07 00:00:00  |2011-02-07  |2784                |Monday     |3              |                |\n",
      "------------------------------------------------------------------------------------------------------\n",
      "\n"
     ]
    }
   ],
   "source": [
    "# See new Table\n",
    "session.sql('SELECT * FROM timestamp_included').show()"
   ]
  },
  {
   "cell_type": "code",
   "execution_count": 27,
   "id": "2663f3a2",
   "metadata": {},
   "outputs": [
    {
     "data": {
      "text/html": [
       "<div>\n",
       "<style scoped>\n",
       "    .dataframe tbody tr th:only-of-type {\n",
       "        vertical-align: middle;\n",
       "    }\n",
       "\n",
       "    .dataframe tbody tr th {\n",
       "        vertical-align: top;\n",
       "    }\n",
       "\n",
       "    .dataframe thead th {\n",
       "        text-align: right;\n",
       "    }\n",
       "</style>\n",
       "<table border=\"1\" class=\"dataframe\">\n",
       "  <thead>\n",
       "    <tr style=\"text-align: right;\">\n",
       "      <th></th>\n",
       "      <th>table_name</th>\n",
       "      <th>schema_name</th>\n",
       "      <th>column_name</th>\n",
       "      <th>data_type</th>\n",
       "      <th>null?</th>\n",
       "      <th>default</th>\n",
       "      <th>kind</th>\n",
       "      <th>expression</th>\n",
       "      <th>comment</th>\n",
       "      <th>database_name</th>\n",
       "      <th>autoincrement</th>\n",
       "    </tr>\n",
       "  </thead>\n",
       "  <tbody>\n",
       "    <tr>\n",
       "      <th>0</th>\n",
       "      <td>TIMESTAMP_INCLUDED</td>\n",
       "      <td>SNOWPARK_TESTING</td>\n",
       "      <td>TIMESTAMP</td>\n",
       "      <td>{\"type\":\"TIMESTAMP_NTZ\",\"precision\":0,\"scale\":...</td>\n",
       "      <td>true</td>\n",
       "      <td></td>\n",
       "      <td>COLUMN</td>\n",
       "      <td></td>\n",
       "      <td></td>\n",
       "      <td>AI_LINK</td>\n",
       "      <td></td>\n",
       "    </tr>\n",
       "    <tr>\n",
       "      <th>1</th>\n",
       "      <td>TIMESTAMP_INCLUDED</td>\n",
       "      <td>SNOWPARK_TESTING</td>\n",
       "      <td>DATE</td>\n",
       "      <td>{\"type\":\"DATE\",\"nullable\":true}</td>\n",
       "      <td>true</td>\n",
       "      <td></td>\n",
       "      <td>COLUMN</td>\n",
       "      <td></td>\n",
       "      <td></td>\n",
       "      <td>AI_LINK</td>\n",
       "      <td></td>\n",
       "    </tr>\n",
       "    <tr>\n",
       "      <th>2</th>\n",
       "      <td>TIMESTAMP_INCLUDED</td>\n",
       "      <td>SNOWPARK_TESTING</td>\n",
       "      <td>TOTAL_UNITS_SOLD</td>\n",
       "      <td>{\"type\":\"FIXED\",\"precision\":38,\"scale\":0,\"null...</td>\n",
       "      <td>true</td>\n",
       "      <td></td>\n",
       "      <td>COLUMN</td>\n",
       "      <td></td>\n",
       "      <td></td>\n",
       "      <td>AI_LINK</td>\n",
       "      <td></td>\n",
       "    </tr>\n",
       "    <tr>\n",
       "      <th>3</th>\n",
       "      <td>TIMESTAMP_INCLUDED</td>\n",
       "      <td>SNOWPARK_TESTING</td>\n",
       "      <td>WEEKDAY</td>\n",
       "      <td>{\"type\":\"TEXT\",\"length\":16777216,\"byteLength\":...</td>\n",
       "      <td>true</td>\n",
       "      <td></td>\n",
       "      <td>COLUMN</td>\n",
       "      <td></td>\n",
       "      <td></td>\n",
       "      <td>AI_LINK</td>\n",
       "      <td></td>\n",
       "    </tr>\n",
       "    <tr>\n",
       "      <th>4</th>\n",
       "      <td>TIMESTAMP_INCLUDED</td>\n",
       "      <td>SNOWPARK_TESTING</td>\n",
       "      <td>DAY_OF_WEEK</td>\n",
       "      <td>{\"type\":\"FIXED\",\"precision\":38,\"scale\":0,\"null...</td>\n",
       "      <td>true</td>\n",
       "      <td></td>\n",
       "      <td>COLUMN</td>\n",
       "      <td></td>\n",
       "      <td></td>\n",
       "      <td>AI_LINK</td>\n",
       "      <td></td>\n",
       "    </tr>\n",
       "    <tr>\n",
       "      <th>5</th>\n",
       "      <td>TIMESTAMP_INCLUDED</td>\n",
       "      <td>SNOWPARK_TESTING</td>\n",
       "      <td>EVENT_NAME_1</td>\n",
       "      <td>{\"type\":\"TEXT\",\"length\":16777216,\"byteLength\":...</td>\n",
       "      <td>true</td>\n",
       "      <td></td>\n",
       "      <td>COLUMN</td>\n",
       "      <td></td>\n",
       "      <td></td>\n",
       "      <td>AI_LINK</td>\n",
       "      <td></td>\n",
       "    </tr>\n",
       "  </tbody>\n",
       "</table>\n",
       "</div>"
      ],
      "text/plain": [
       "           table_name       schema_name       column_name  \\\n",
       "0  TIMESTAMP_INCLUDED  SNOWPARK_TESTING         TIMESTAMP   \n",
       "1  TIMESTAMP_INCLUDED  SNOWPARK_TESTING              DATE   \n",
       "2  TIMESTAMP_INCLUDED  SNOWPARK_TESTING  TOTAL_UNITS_SOLD   \n",
       "3  TIMESTAMP_INCLUDED  SNOWPARK_TESTING           WEEKDAY   \n",
       "4  TIMESTAMP_INCLUDED  SNOWPARK_TESTING       DAY_OF_WEEK   \n",
       "5  TIMESTAMP_INCLUDED  SNOWPARK_TESTING      EVENT_NAME_1   \n",
       "\n",
       "                                           data_type null? default    kind  \\\n",
       "0  {\"type\":\"TIMESTAMP_NTZ\",\"precision\":0,\"scale\":...  true          COLUMN   \n",
       "1                    {\"type\":\"DATE\",\"nullable\":true}  true          COLUMN   \n",
       "2  {\"type\":\"FIXED\",\"precision\":38,\"scale\":0,\"null...  true          COLUMN   \n",
       "3  {\"type\":\"TEXT\",\"length\":16777216,\"byteLength\":...  true          COLUMN   \n",
       "4  {\"type\":\"FIXED\",\"precision\":38,\"scale\":0,\"null...  true          COLUMN   \n",
       "5  {\"type\":\"TEXT\",\"length\":16777216,\"byteLength\":...  true          COLUMN   \n",
       "\n",
       "  expression comment database_name autoincrement  \n",
       "0                          AI_LINK                \n",
       "1                          AI_LINK                \n",
       "2                          AI_LINK                \n",
       "3                          AI_LINK                \n",
       "4                          AI_LINK                \n",
       "5                          AI_LINK                "
      ]
     },
     "execution_count": 27,
     "metadata": {},
     "output_type": "execute_result"
    }
   ],
   "source": [
    "# Column Info\n",
    "p = pd.DataFrame(session.sql('SHOW COLUMNS IN TABLE timestamp_included').collect())\n",
    "p"
   ]
  },
  {
   "cell_type": "markdown",
   "id": "2424bfe1",
   "metadata": {},
   "source": [
    "<p style=\"text-align:center;\"><font color = \"red\">Internal Errors are causing this part of the demo not to work at the moment but this is where we could create our time-series object which would act as our model.</font></p>"
   ]
  },
  {
   "cell_type": "code",
   "execution_count": null,
   "id": "7f975b34",
   "metadata": {
    "scrolled": true
   },
   "outputs": [],
   "source": [
    "%%time\n",
    "time_col = 'TIMESTAMP'\n",
    "target_col = 'TOTAL_UNITS_SOLD'\n",
    "\n",
    "# Create SNOWFLAKE.ML.FORECAST object\n",
    "sql =\"CREATE OR REPLACE SNOWFLAKE.ML.FORECAST demo_time_series( \" + \\\n",
    "     \"INPUT_DATA => SYSTEM$REFERENCE('VIEW', 'v0'), \" + \\\n",
    "     \"TIMESTAMP_COLNAME => '\" + time_col +\"', \" + \\\n",
    "     \"TARGET_COLNAME => '\" + target_col + \"')\"\n",
    "\n",
    "session.sql(sql).show()"
   ]
  },
  {
   "cell_type": "markdown",
   "id": "17e2415e",
   "metadata": {},
   "source": [
    "</br></br><h1 style=\"text-align:center;font-weight: bold;\"><font color = \"0077A7\" size = \"10px\"> PURE SQL APPROACH\n",
    "  </font></h1>\n",
    "  <p style=\"text-align:center;\"><font color = \"0077A7\">This will only use Snowflake and the data already inside of it through <b>SQL</b>.</font></p></br></br>\n"
   ]
  },
  {
   "cell_type": "markdown",
   "id": "74e7c53f",
   "metadata": {},
   "source": [
    "Get the data"
   ]
  },
  {
   "cell_type": "code",
   "execution_count": null,
   "id": "0cf8ee98",
   "metadata": {},
   "outputs": [],
   "source": [
    "# Cast DT to a timestamp and create a table\n",
    "session.sql('CREATE OR REPLACE TABLE timestamp_included (timestamp, date, cat_id, dept_id, item_id, units_sold) AS SELECT TO_TIMESTAMP(dt), dt, cat_id, dept_id, item_id, units_sold FROM M5_TIME_SERIES_THIN').show()"
   ]
  },
  {
   "cell_type": "code",
   "execution_count": null,
   "id": "4d88c90a",
   "metadata": {},
   "outputs": [],
   "source": [
    "## Turn into a dataframe\n",
    "df = session.table('timestamp_included')\n",
    "df.show()"
   ]
  },
  {
   "cell_type": "markdown",
   "id": "5c0b8440",
   "metadata": {},
   "source": [
    "Make a View"
   ]
  },
  {
   "cell_type": "code",
   "execution_count": null,
   "id": "7e715630",
   "metadata": {},
   "outputs": [],
   "source": [
    "# Create a view\n",
    "view_sql = \"CREATE OR REPLACE VIEW v2 AS SELECT * FROM timestamp_included\"\n",
    "session.sql(view_sql).show()"
   ]
  },
  {
   "cell_type": "code",
   "execution_count": null,
   "id": "d1518a40",
   "metadata": {},
   "outputs": [],
   "source": [
    "## See the View\n",
    "df = pd.DataFrame(session.sql('SELECT * from v2').collect())\n",
    "df"
   ]
  },
  {
   "cell_type": "markdown",
   "id": "32b23d44",
   "metadata": {},
   "source": [
    "Make a Forecast Object"
   ]
  },
  {
   "cell_type": "code",
   "execution_count": null,
   "id": "7f5d1931",
   "metadata": {},
   "outputs": [],
   "source": [
    "# Create SNOWFLAKE.ML.FORECAST object\n",
    "sql =\"CREATE OR REPLACE SNOWFLAKE.ML.FORECAST demo_time_series(\" + \\\n",
    "     \"INPUT_DATA => SYSTEM$REFERENCE('VIEW', 'v2'),\" + \\\n",
    "     \"TIMESTAMP_COLNAME => 'TIMESTAMP',\" + \\\n",
    "     \"TARGET_COLNAME => 'UNITS_SOLD')\"\n",
    "session.sql(sql).show()"
   ]
  }
 ],
 "metadata": {
  "kernelspec": {
   "display_name": "Python 3 (ipykernel)",
   "language": "python",
   "name": "python3"
  },
  "language_info": {
   "codemirror_mode": {
    "name": "ipython",
    "version": 3
   },
   "file_extension": ".py",
   "mimetype": "text/x-python",
   "name": "python",
   "nbconvert_exporter": "python",
   "pygments_lexer": "ipython3",
   "version": "3.8.16"
  }
 },
 "nbformat": 4,
 "nbformat_minor": 5
}
